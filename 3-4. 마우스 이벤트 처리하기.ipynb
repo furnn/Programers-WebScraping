{
 "cells": [
  {
   "cell_type": "markdown",
   "id": "192778f5-b6a0-458f-9d28-2ecd531975a1",
   "metadata": {},
   "source": [
    "## 3-4. 마우스 이벤트 처리하기\n",
    "\n",
    "- Selenium을 이용해서 마우스 Event를 동작해봅시다."
   ]
  },
  {
   "cell_type": "markdown",
   "id": "21cda704-06c6-4de4-83a7-f77fbeec5728",
   "metadata": {},
   "source": [
    "### Target: 해시코드 \"로그인\" 창 접속하기\n",
    "\n",
    "*이번 실습과 다음 실습에 걸쳐 로그인 과정을 자동화하는 것을 목표로 합니다.*\n",
    "\n",
    "다음 사이트에 로그인하기 위해 \"로그인\" 버튼을 눌러봅시다 : https://hashcode.co.kr/"
   ]
  },
  {
   "cell_type": "markdown",
   "id": "f610a6e2-c4e6-4ada-a5ae-eb1a99b0f0b3",
   "metadata": {},
   "source": [
    "### Mouse Event\n",
    "\n",
    "웹 페이지에서 일어나는 일들을 Event라고 합니다.\n",
    "\n",
    "마우스로 일어날 수 있는 대표적인 이벤트는 다음과 같습니다.\n",
    "\n",
    "- 마우스 움직이기(move)\n",
    "- 마우스 누르기(press down)\n",
    "- 마우스 떼기(press up)\n",
    "- ..."
   ]
  },
  {
   "cell_type": "markdown",
   "id": "72fb9572-41bf-45ea-a1da-510739d0c517",
   "metadata": {},
   "source": [
    "\n",
    "저희는 버튼을 찾은 후 이를 클릭하는 것을 목표로 합니다.  \n",
    "마우스 입력은 크게 다음과 같은 과정을 거칩니다.\n",
    "\n",
    "1. 입력하고자 하는 대상 요소를 찾습니다. (`find_element()` 이용)\n",
    "2. 입력하고자 하는 내용을 `click`을 통해 전달합니다.\n",
    "3. `.perform()`을 통해 동작합니다.\n",
    "\n",
    "아래 예시는 `id`가 textInput인 요소에 \"abc\"를 입력하는 예제입니다.\n",
    "```python\n",
    "button = driver.find_element(By.ID, \"button\")\n",
    "ActionChains(driver).click(button).perform()\n",
    "```"
   ]
  },
  {
   "cell_type": "code",
   "execution_count": 7,
   "id": "e1e6514c",
   "metadata": {},
   "outputs": [],
   "source": [
    "# 스크래핑에 필요한 라이브러리를 불러와봅시다.\n",
    "\n",
    "from selenium import webdriver\n",
    "from selenium.webdriver import ActionChains\n",
    "from selenium.webdriver.chrome.service import Service\n",
    "from selenium.webdriver.chrome.options import Options\n",
    "from selenium.webdriver.common.by import By\n",
    "from webdriver_manager.chrome import ChromeDriverManager\n",
    "\n"
   ]
  },
  {
   "cell_type": "code",
   "execution_count": 13,
   "id": "8bdbf061-8236-4008-b75c-449458718736",
   "metadata": {},
   "outputs": [
    {
     "ename": "ElementNotInteractableException",
     "evalue": "Message: element not interactable: https://programmers.co.kr/account/sign_in?referer=https%3A%2F%2Fqna.programmers.co.kr%2F has no size and location\n  (Session info: chrome=111.0.5563.65)\nStacktrace:\nBacktrace:\n\t(No symbol) [0x0036DCE3]\n\t(No symbol) [0x003039D1]\n\t(No symbol) [0x00214DA8]\n\t(No symbol) [0x002176FB]\n\t(No symbol) [0x002175D0]\n\t(No symbol) [0x00217850]\n\t(No symbol) [0x00244AAD]\n\t(No symbol) [0x00244323]\n\t(No symbol) [0x0027384C]\n\t(No symbol) [0x0025AECC]\n\t(No symbol) [0x0026D57C]\n\t(No symbol) [0x0025ACC6]\n\t(No symbol) [0x00236F68]\n\t(No symbol) [0x002380CD]\n\tGetHandleVerifier [0x005E3832+2506274]\n\tGetHandleVerifier [0x00619794+2727300]\n\tGetHandleVerifier [0x0061E36C+2746716]\n\tGetHandleVerifier [0x00416690+617600]\n\t(No symbol) [0x0030C712]\n\t(No symbol) [0x00311FF8]\n\t(No symbol) [0x003120DB]\n\t(No symbol) [0x0031C63B]\n\tBaseThreadInitThunk [0x76678039+25]\n\tRtlInitializeExceptionChain [0x7789DA5B+107]\n\tRtlGetAppContainerNamedObjectPath [0x7789D9DD+237]\n",
     "output_type": "error",
     "traceback": [
      "\u001b[1;31m---------------------------------------------------------------------------\u001b[0m",
      "\u001b[1;31mElementNotInteractableException\u001b[0m           Traceback (most recent call last)",
      "Cell \u001b[1;32mIn[13], line 12\u001b[0m\n\u001b[0;32m     10\u001b[0m button\u001b[39m=\u001b[39mdriver\u001b[39m.\u001b[39mfind_element(by\u001b[39m=\u001b[39mBy\u001b[39m.\u001b[39mXPATH, value\u001b[39m=\u001b[39m\u001b[39m'\u001b[39m\u001b[39m//*[@id=\u001b[39m\u001b[39m\\\"\u001b[39;00m\u001b[39mmain-app-gnb-header\u001b[39m\u001b[39m\\\"\u001b[39;00m\u001b[39m]/div/div/div[1]/div/div[2]/div/div/div[1]/span[1]/a[1]\u001b[39m\u001b[39m'\u001b[39m)\n\u001b[0;32m     11\u001b[0m actionschains\u001b[39m=\u001b[39mActionChains(driver)\n\u001b[1;32m---> 12\u001b[0m ActionChains(driver)\u001b[39m.\u001b[39;49mclick(button)\u001b[39m.\u001b[39;49mperform()\n",
      "File \u001b[1;32mc:\\Users\\gka06\\AppData\\Local\\Programs\\Python\\Python310\\lib\\site-packages\\selenium\\webdriver\\common\\action_chains.py:78\u001b[0m, in \u001b[0;36mActionChains.perform\u001b[1;34m(self)\u001b[0m\n\u001b[0;32m     74\u001b[0m \u001b[39mdef\u001b[39;00m \u001b[39mperform\u001b[39m(\u001b[39mself\u001b[39m):\n\u001b[0;32m     75\u001b[0m \u001b[39m    \u001b[39m\u001b[39m\"\"\"\u001b[39;00m\n\u001b[0;32m     76\u001b[0m \u001b[39m    Performs all stored actions.\u001b[39;00m\n\u001b[0;32m     77\u001b[0m \u001b[39m    \"\"\"\u001b[39;00m\n\u001b[1;32m---> 78\u001b[0m     \u001b[39mself\u001b[39;49m\u001b[39m.\u001b[39;49mw3c_actions\u001b[39m.\u001b[39;49mperform()\n",
      "File \u001b[1;32mc:\\Users\\gka06\\AppData\\Local\\Programs\\Python\\Python310\\lib\\site-packages\\selenium\\webdriver\\common\\actions\\action_builder.py:91\u001b[0m, in \u001b[0;36mActionBuilder.perform\u001b[1;34m(self)\u001b[0m\n\u001b[0;32m     89\u001b[0m         enc[\u001b[39m\"\u001b[39m\u001b[39mactions\u001b[39m\u001b[39m\"\u001b[39m]\u001b[39m.\u001b[39mappend(encoded)\n\u001b[0;32m     90\u001b[0m         device\u001b[39m.\u001b[39mactions \u001b[39m=\u001b[39m []\n\u001b[1;32m---> 91\u001b[0m \u001b[39mself\u001b[39;49m\u001b[39m.\u001b[39;49mdriver\u001b[39m.\u001b[39;49mexecute(Command\u001b[39m.\u001b[39;49mW3C_ACTIONS, enc)\n",
      "File \u001b[1;32mc:\\Users\\gka06\\AppData\\Local\\Programs\\Python\\Python310\\lib\\site-packages\\selenium\\webdriver\\remote\\webdriver.py:444\u001b[0m, in \u001b[0;36mWebDriver.execute\u001b[1;34m(self, driver_command, params)\u001b[0m\n\u001b[0;32m    442\u001b[0m response \u001b[39m=\u001b[39m \u001b[39mself\u001b[39m\u001b[39m.\u001b[39mcommand_executor\u001b[39m.\u001b[39mexecute(driver_command, params)\n\u001b[0;32m    443\u001b[0m \u001b[39mif\u001b[39;00m response:\n\u001b[1;32m--> 444\u001b[0m     \u001b[39mself\u001b[39;49m\u001b[39m.\u001b[39;49merror_handler\u001b[39m.\u001b[39;49mcheck_response(response)\n\u001b[0;32m    445\u001b[0m     response[\u001b[39m\"\u001b[39m\u001b[39mvalue\u001b[39m\u001b[39m\"\u001b[39m] \u001b[39m=\u001b[39m \u001b[39mself\u001b[39m\u001b[39m.\u001b[39m_unwrap_value(response\u001b[39m.\u001b[39mget(\u001b[39m\"\u001b[39m\u001b[39mvalue\u001b[39m\u001b[39m\"\u001b[39m, \u001b[39mNone\u001b[39;00m))\n\u001b[0;32m    446\u001b[0m     \u001b[39mreturn\u001b[39;00m response\n",
      "File \u001b[1;32mc:\\Users\\gka06\\AppData\\Local\\Programs\\Python\\Python310\\lib\\site-packages\\selenium\\webdriver\\remote\\errorhandler.py:249\u001b[0m, in \u001b[0;36mErrorHandler.check_response\u001b[1;34m(self, response)\u001b[0m\n\u001b[0;32m    247\u001b[0m         alert_text \u001b[39m=\u001b[39m value[\u001b[39m\"\u001b[39m\u001b[39malert\u001b[39m\u001b[39m\"\u001b[39m]\u001b[39m.\u001b[39mget(\u001b[39m\"\u001b[39m\u001b[39mtext\u001b[39m\u001b[39m\"\u001b[39m)\n\u001b[0;32m    248\u001b[0m     \u001b[39mraise\u001b[39;00m exception_class(message, screen, stacktrace, alert_text)  \u001b[39m# type: ignore[call-arg]  # mypy is not smart enough here\u001b[39;00m\n\u001b[1;32m--> 249\u001b[0m \u001b[39mraise\u001b[39;00m exception_class(message, screen, stacktrace)\n",
      "\u001b[1;31mElementNotInteractableException\u001b[0m: Message: element not interactable: https://programmers.co.kr/account/sign_in?referer=https%3A%2F%2Fqna.programmers.co.kr%2F has no size and location\n  (Session info: chrome=111.0.5563.65)\nStacktrace:\nBacktrace:\n\t(No symbol) [0x0036DCE3]\n\t(No symbol) [0x003039D1]\n\t(No symbol) [0x00214DA8]\n\t(No symbol) [0x002176FB]\n\t(No symbol) [0x002175D0]\n\t(No symbol) [0x00217850]\n\t(No symbol) [0x00244AAD]\n\t(No symbol) [0x00244323]\n\t(No symbol) [0x0027384C]\n\t(No symbol) [0x0025AECC]\n\t(No symbol) [0x0026D57C]\n\t(No symbol) [0x0025ACC6]\n\t(No symbol) [0x00236F68]\n\t(No symbol) [0x002380CD]\n\tGetHandleVerifier [0x005E3832+2506274]\n\tGetHandleVerifier [0x00619794+2727300]\n\tGetHandleVerifier [0x0061E36C+2746716]\n\tGetHandleVerifier [0x00416690+617600]\n\t(No symbol) [0x0030C712]\n\t(No symbol) [0x00311FF8]\n\t(No symbol) [0x003120DB]\n\t(No symbol) [0x0031C63B]\n\tBaseThreadInitThunk [0x76678039+25]\n\tRtlInitializeExceptionChain [0x7789DA5B+107]\n\tRtlGetAppContainerNamedObjectPath [0x7789D9DD+237]\n"
     ]
    }
   ],
   "source": [
    "# 주어진 웹사이트를 누른 후, 우리가 원하는 버튼 요소를 찾은 후 마우스 이벤트를 실행시켜봅시다.\n",
    "\n",
    "options=Options()\n",
    "\n",
    "\n",
    "driver=webdriver.Chrome(options=options)\n",
    "driver.get(\"https://hashcode.co.kr/\")\n",
    "driver.implicitly_wait(10)\n",
    "\n",
    "button=driver.find_element(by=By.XPATH, value='//*[@id=\\\"main-app-gnb-header\\\"]/div/div/div[1]/div/div[2]/div/div/div[1]/span[1]/a[1]')\n",
    "actionschains=ActionChains(driver)\n",
    "ActionChains(driver).click(button).perform()"
   ]
  },
  {
   "cell_type": "markdown",
   "id": "380684c7-4e86-45df-82d7-35d372ed35b6",
   "metadata": {},
   "source": [
    "성공적으로 로그인 창에 진입했나요?  \n",
    "이제 다음 실습에서 키보드 입력을 진행하는 방법에 대해서 학습해봅시다.\n",
    "\n",
    "Tip: 이 외에도 사용할 수 있는 마우스 이벤트들이 많습니다. 다음 [링크](https://www.selenium.dev/documentation/webdriver/actions_api/mouse/)를 통해 확인하실 수 있어요!"
   ]
  }
 ],
 "metadata": {
  "kernelspec": {
   "display_name": "Python 3 (ipykernel)",
   "language": "python",
   "name": "python3"
  },
  "language_info": {
   "codemirror_mode": {
    "name": "ipython",
    "version": 3
   },
   "file_extension": ".py",
   "mimetype": "text/x-python",
   "name": "python",
   "nbconvert_exporter": "python",
   "pygments_lexer": "ipython3",
   "version": "3.10.7"
  }
 },
 "nbformat": 4,
 "nbformat_minor": 5
}
